{
 "cells": [
  {
   "cell_type": "markdown",
   "metadata": {},
   "source": [
    "# Building a CNN from Scratch - Lab\n",
    "\n",
    "## Introduction\n",
    "\n",
    "Now that you have background knowledge regarding how CNNs work and how to implement them via Keras, its time to pratice those skills a little more independently in order to build a CNN on your own to solve a image recognition problem. In this lab, you'll practice building an image classifier from start to finish using a CNN.  \n",
    "\n",
    "## Objectives\n",
    "\n",
    "You will be able to:\n",
    "* Transform images into tensors\n",
    "* Build a CNN model for image recognition"
   ]
  },
  {
   "cell_type": "markdown",
   "metadata": {},
   "source": [
    "## Loading the Images\n",
    "\n",
    "The data for this lab concerns classifying lung xray images for pneumonia. The original dataset is from kaggle. We have downsampled this dataset in order to reduce trainging time for you when you design and fit your model to the data. It is anticipated that this process will take approximately 1 hour to run on a standard machine, although times will vary depending on your particular computer and set up. At the end of this lab, you are welcome to try training on the complete dataset and observe the impact on the model's overall accuracy. \n",
    "\n",
    "You can find the initial downsampled dataset in a subdirectory, **chest_xray**, of this repository."
   ]
  },
  {
   "cell_type": "code",
   "execution_count": 1,
   "metadata": {},
   "outputs": [
    {
     "name": "stderr",
     "output_type": "stream",
     "text": [
      "Using TensorFlow backend.\n"
     ]
    }
   ],
   "source": [
    "#Your code here; load the images; be sure to also preprocess these into tensors.\n",
    "from keras.preprocessing.image import ImageDataGenerator\n",
    "import datetime\n",
    "\n",
    "original_start = datetime.datetime.now()\n",
    "start = datetime.datetime.now()"
   ]
  },
  {
   "cell_type": "code",
   "execution_count": 2,
   "metadata": {},
   "outputs": [
    {
     "name": "stdout",
     "output_type": "stream",
     "text": [
      "Found 1738 images belonging to 2 classes.\n",
      "Found 4 images belonging to 2 classes.\n"
     ]
    }
   ],
   "source": [
    "train_dir = 'chest_xray_downsampled/train'\n",
    "validation_dir = 'chest_xray_downsampled/val/'\n",
    "test_dir = 'chest_xray_downsampled/test/'\n",
    "\n",
    "# All images will be rescaled by 1./255\n",
    "train_datagen = ImageDataGenerator(rescale=1./255)\n",
    "test_datagen = ImageDataGenerator(rescale=1./255)\n",
    "\n",
    "train_generator = train_datagen.flow_from_directory(\n",
    "        # This is the target directory\n",
    "        train_dir,\n",
    "        # All images will be resized to 150x150\n",
    "        target_size=(150, 150),\n",
    "        batch_size=20,\n",
    "        # Since we use binary_crossentropy loss, we need binary labels\n",
    "        class_mode='binary')\n",
    "\n",
    "validation_generator = test_datagen.flow_from_directory(\n",
    "        validation_dir,\n",
    "        target_size=(150, 150),\n",
    "        batch_size=20,\n",
    "        class_mode='binary')"
   ]
  },
  {
   "cell_type": "markdown",
   "metadata": {},
   "source": [
    "## Designing the Model\n",
    "\n",
    "Now it's time to design your CNN! Remember a few things when doing this: \n",
    "* You should alternate convolutional and pooling layers\n",
    "* You should have later layers have a larger number of parameters in order to detect more abstract patterns\n",
    "* Add some final dense layers to add a classifier to the convolutional base"
   ]
  },
  {
   "cell_type": "code",
   "execution_count": 3,
   "metadata": {},
   "outputs": [
    {
     "name": "stderr",
     "output_type": "stream",
     "text": [
      "WARNING: Logging before flag parsing goes to stderr.\n",
      "W0809 12:51:41.600040 140736270398336 deprecation_wrapper.py:119] From /anaconda3/lib/python3.7/site-packages/keras/backend/tensorflow_backend.py:74: The name tf.get_default_graph is deprecated. Please use tf.compat.v1.get_default_graph instead.\n",
      "\n",
      "W0809 12:51:41.651206 140736270398336 deprecation_wrapper.py:119] From /anaconda3/lib/python3.7/site-packages/keras/backend/tensorflow_backend.py:517: The name tf.placeholder is deprecated. Please use tf.compat.v1.placeholder instead.\n",
      "\n",
      "W0809 12:51:41.670917 140736270398336 deprecation_wrapper.py:119] From /anaconda3/lib/python3.7/site-packages/keras/backend/tensorflow_backend.py:4138: The name tf.random_uniform is deprecated. Please use tf.random.uniform instead.\n",
      "\n",
      "W0809 12:51:41.712005 140736270398336 deprecation_wrapper.py:119] From /anaconda3/lib/python3.7/site-packages/keras/backend/tensorflow_backend.py:3976: The name tf.nn.max_pool is deprecated. Please use tf.nn.max_pool2d instead.\n",
      "\n"
     ]
    }
   ],
   "source": [
    "#Your code here; design and compile the model\n",
    "\n",
    "from keras import layers\n",
    "from keras import models\n",
    "\n",
    "model = models.Sequential()\n",
    "model.add(layers.Conv2D(32, (3, 3), activation='relu',\n",
    "                        input_shape=(150, 150, 3)))\n",
    "model.add(layers.MaxPooling2D((2, 2)))\n",
    "model.add(layers.Conv2D(64, (3, 3), activation='relu'))\n",
    "model.add(layers.MaxPooling2D((2, 2)))\n",
    "model.add(layers.Conv2D(128, (3, 3), activation='relu'))\n",
    "model.add(layers.MaxPooling2D((2, 2)))\n",
    "model.add(layers.Conv2D(128, (3, 3), activation='relu'))\n",
    "model.add(layers.MaxPooling2D((2, 2)))\n",
    "model.add(layers.Flatten())\n",
    "model.add(layers.Dense(512, activation='relu'))\n",
    "model.add(layers.Dense(1, activation='sigmoid'))"
   ]
  },
  {
   "cell_type": "code",
   "execution_count": 4,
   "metadata": {},
   "outputs": [
    {
     "name": "stderr",
     "output_type": "stream",
     "text": [
      "W0809 12:51:56.263134 140736270398336 deprecation_wrapper.py:119] From /anaconda3/lib/python3.7/site-packages/keras/optimizers.py:790: The name tf.train.Optimizer is deprecated. Please use tf.compat.v1.train.Optimizer instead.\n",
      "\n",
      "W0809 12:51:56.273216 140736270398336 deprecation_wrapper.py:119] From /anaconda3/lib/python3.7/site-packages/keras/backend/tensorflow_backend.py:3376: The name tf.log is deprecated. Please use tf.math.log instead.\n",
      "\n",
      "W0809 12:51:56.285051 140736270398336 deprecation.py:323] From /anaconda3/lib/python3.7/site-packages/tensorflow/python/ops/nn_impl.py:180: add_dispatch_support.<locals>.wrapper (from tensorflow.python.ops.array_ops) is deprecated and will be removed in a future version.\n",
      "Instructions for updating:\n",
      "Use tf.where in 2.0, which has the same broadcast rule as np.where\n"
     ]
    }
   ],
   "source": [
    "from keras import optimizers\n",
    "\n",
    "model.compile(loss='binary_crossentropy',\n",
    "              optimizer=optimizers.RMSprop(lr=1e-4),\n",
    "              metrics=['acc'])"
   ]
  },
  {
   "cell_type": "markdown",
   "metadata": {},
   "source": [
    "## Training and Evaluating the Model\n",
    "\n",
    "Remember that training deep networks is resource intensive: depending on the size of the data, even a CNN with 3-4 successive convolutional and pooling layers is apt to take a hours to train on a high end laptop. Using 30 epochs and 8 layers (alternating between convolutional and pooling), our model took about 40 minutes to run on a year old macbook pro.\n",
    "\n",
    "\n",
    "If you are concerned with runtime, you may want to set your model to run the training epochs overnight.  \n",
    "\n",
    "**If you are going to run this process overnight, be sure to also script code for the following questions concerning data augmentation. Check your code twice (or more) and then set the notebook to run all, or something equivalent to have them train overnight.**"
   ]
  },
  {
   "cell_type": "code",
   "execution_count": 5,
   "metadata": {},
   "outputs": [
    {
     "name": "stderr",
     "output_type": "stream",
     "text": [
      "W0809 12:52:14.580887 140736270398336 deprecation_wrapper.py:119] From /anaconda3/lib/python3.7/site-packages/keras/backend/tensorflow_backend.py:986: The name tf.assign_add is deprecated. Please use tf.compat.v1.assign_add instead.\n",
      "\n"
     ]
    },
    {
     "name": "stdout",
     "output_type": "stream",
     "text": [
      "Epoch 1/30\n",
      "100/100 [==============================] - 87s 870ms/step - loss: 0.4757 - acc: 0.7844 - val_loss: 0.8491 - val_acc: 0.7500\n",
      "Epoch 2/30\n",
      "100/100 [==============================] - 87s 867ms/step - loss: 0.2535 - acc: 0.8989 - val_loss: 0.9945 - val_acc: 0.7500\n",
      "Epoch 3/30\n",
      "100/100 [==============================] - 81s 813ms/step - loss: 0.1625 - acc: 0.9344 - val_loss: 0.6740 - val_acc: 0.7500\n",
      "Epoch 4/30\n",
      "100/100 [==============================] - 75s 748ms/step - loss: 0.1551 - acc: 0.9345 - val_loss: 1.4115 - val_acc: 0.7500\n",
      "Epoch 5/30\n",
      "100/100 [==============================] - 77s 770ms/step - loss: 0.1185 - acc: 0.9534 - val_loss: 0.3730 - val_acc: 0.7500\n",
      "Epoch 6/30\n",
      "100/100 [==============================] - 75s 750ms/step - loss: 0.1027 - acc: 0.9624 - val_loss: 0.8729 - val_acc: 0.7500\n",
      "Epoch 7/30\n",
      "100/100 [==============================] - 75s 745ms/step - loss: 0.0878 - acc: 0.9629 - val_loss: 1.7590 - val_acc: 0.5000\n",
      "Epoch 8/30\n",
      "100/100 [==============================] - 75s 755ms/step - loss: 0.0793 - acc: 0.9684 - val_loss: 0.6778 - val_acc: 0.7500\n",
      "Epoch 9/30\n",
      "100/100 [==============================] - 73s 731ms/step - loss: 0.0680 - acc: 0.9734 - val_loss: 0.4788 - val_acc: 0.7500\n",
      "Epoch 10/30\n",
      "100/100 [==============================] - 74s 735ms/step - loss: 0.0698 - acc: 0.9745 - val_loss: 0.6111 - val_acc: 0.7500\n",
      "Epoch 11/30\n",
      "100/100 [==============================] - 565s 6s/step - loss: 0.0539 - acc: 0.9800 - val_loss: 0.4763 - val_acc: 0.7500\n",
      "Epoch 12/30\n",
      "100/100 [==============================] - 81s 812ms/step - loss: 0.0422 - acc: 0.9880 - val_loss: 1.2883 - val_acc: 0.7500\n",
      "Epoch 13/30\n",
      "100/100 [==============================] - 2032s 20s/step - loss: 0.0498 - acc: 0.9814 - val_loss: 1.0887 - val_acc: 0.7500\n",
      "Epoch 14/30\n",
      "100/100 [==============================] - 77s 768ms/step - loss: 0.0392 - acc: 0.9845 - val_loss: 0.6847 - val_acc: 0.7500\n",
      "Epoch 15/30\n",
      "100/100 [==============================] - 87s 869ms/step - loss: 0.0298 - acc: 0.9885 - val_loss: 1.5202 - val_acc: 0.5000\n",
      "Epoch 16/30\n",
      "100/100 [==============================] - 92s 921ms/step - loss: 0.0310 - acc: 0.9870 - val_loss: 0.3609 - val_acc: 0.7500\n",
      "Epoch 17/30\n",
      "100/100 [==============================] - 95s 952ms/step - loss: 0.0219 - acc: 0.9910 - val_loss: 0.2914 - val_acc: 0.7500\n",
      "Epoch 18/30\n",
      "100/100 [==============================] - 97s 967ms/step - loss: 0.0247 - acc: 0.9905 - val_loss: 0.8660 - val_acc: 0.7500\n",
      "Epoch 19/30\n",
      "100/100 [==============================] - 97s 968ms/step - loss: 0.0196 - acc: 0.9919 - val_loss: 0.7021 - val_acc: 0.7500\n",
      "Epoch 20/30\n",
      "100/100 [==============================] - 111s 1s/step - loss: 0.0223 - acc: 0.9923 - val_loss: 0.5041 - val_acc: 0.7500\n",
      "Epoch 21/30\n",
      "100/100 [==============================] - 117s 1s/step - loss: 0.0183 - acc: 0.9930 - val_loss: 0.6799 - val_acc: 0.7500\n",
      "Epoch 22/30\n",
      "100/100 [==============================] - 119s 1s/step - loss: 0.0142 - acc: 0.9955 - val_loss: 1.3433 - val_acc: 0.7500\n",
      "Epoch 23/30\n",
      "100/100 [==============================] - 122s 1s/step - loss: 0.0179 - acc: 0.9935 - val_loss: 0.5197 - val_acc: 0.7500\n",
      "Epoch 24/30\n",
      "100/100 [==============================] - 123s 1s/step - loss: 0.0103 - acc: 0.9960 - val_loss: 3.0181 - val_acc: 0.7500\n",
      "Epoch 25/30\n",
      "100/100 [==============================] - 125s 1s/step - loss: 0.0092 - acc: 0.9965 - val_loss: 0.5004 - val_acc: 0.7500\n",
      "Epoch 26/30\n",
      "100/100 [==============================] - 126s 1s/step - loss: 0.0084 - acc: 0.9965 - val_loss: 3.6632 - val_acc: 0.5000\n",
      "Epoch 27/30\n",
      "100/100 [==============================] - 127s 1s/step - loss: 0.0053 - acc: 0.9985 - val_loss: 0.3324 - val_acc: 0.7500\n",
      "Epoch 28/30\n",
      "100/100 [==============================] - 128s 1s/step - loss: 0.0064 - acc: 0.9975 - val_loss: 1.3084 - val_acc: 0.7500\n",
      "Epoch 29/30\n",
      "100/100 [==============================] - 129s 1s/step - loss: 0.0028 - acc: 0.9990 - val_loss: 0.0210 - val_acc: 1.0000\n",
      "Epoch 30/30\n",
      "100/100 [==============================] - 130s 1s/step - loss: 0.0121 - acc: 0.9950 - val_loss: 1.4612 - val_acc: 0.7500\n"
     ]
    }
   ],
   "source": [
    "# Plot history\n",
    "history = model.fit_generator(\n",
    "      train_generator,\n",
    "      steps_per_epoch=100,\n",
    "      epochs=30,\n",
    "      validation_data=validation_generator,\n",
    "      validation_steps=50)"
   ]
  },
  {
   "cell_type": "code",
   "execution_count": 6,
   "metadata": {},
   "outputs": [
    {
     "data": {
      "image/png": "[encoded data removed]",
      "text/plain": [
       "<Figure size 432x288 with 1 Axes>"
      ]
     },
     "metadata": {
      "needs_background": "light"
     },
     "output_type": "display_data"
    },
    {
     "data": {
      "image/png": "[encoded data removed]",
      "text/plain": [
       "<Figure size 432x288 with 1 Axes>"
      ]
     },
     "metadata": {
      "needs_background": "light"
     },
     "output_type": "display_data"
    }
   ],
   "source": [
    "import matplotlib.pyplot as plt\n",
    "%matplotlib inline \n",
    "\n",
    "acc = history.history['acc']\n",
    "val_acc = history.history['val_acc']\n",
    "loss = history.history['loss']\n",
    "val_loss = history.history['val_loss']\n",
    "epochs = range(len(acc))\n",
    "plt.plot(epochs, acc, 'bo', label='Training acc')\n",
    "plt.plot(epochs, val_acc, 'b', label='Validation acc')\n",
    "plt.title('Training and validation accuracy')\n",
    "plt.legend()\n",
    "plt.figure()\n",
    "plt.plot(epochs, loss, 'bo', label='Training loss')\n",
    "plt.plot(epochs, val_loss, 'b', label='Validation loss')\n",
    "plt.title('Training and validation loss')\n",
    "plt.legend()\n",
    "plt.show()"
   ]
  },
  {
   "cell_type": "code",
   "execution_count": 7,
   "metadata": {},
   "outputs": [
    {
     "name": "stdout",
     "output_type": "stream",
     "text": [
      "Training took a total of 2:10:29.035032\n"
     ]
    }
   ],
   "source": [
    "end = datetime.datetime.now()\n",
    "elapsed = end - start\n",
    "print('Training took a total of {}'.format(elapsed))"
   ]
  },
  {
   "cell_type": "markdown",
   "metadata": {},
   "source": [
    "## Save the Model"
   ]
  },
  {
   "cell_type": "code",
   "execution_count": 8,
   "metadata": {},
   "outputs": [],
   "source": [
    "#Your code here; save the model for future reference.\n",
    "model.save('chest_xray_downsampled_data.h5')"
   ]
  },
  {
   "cell_type": "markdown",
   "metadata": {},
   "source": [
    "## Data Augmentation\n",
    "\n",
    "Recall that data augmentation is typically always a necessary step when using a small dataset as this one which you have been provided. As such, if you haven't already, implement a data augmentation setup.\n",
    "\n",
    "**Warning: This process took nearly 4 hours to run on a relatively new macbook pro. As such, it is recommended that you simply code the setup and compare to the solution branch, or set the process to run overnight if you do choose to actually run the code.**"
   ]
  },
  {
   "cell_type": "code",
   "execution_count": null,
   "metadata": {},
   "outputs": [
    {
     "name": "stdout",
     "output_type": "stream",
     "text": [
      "Found 1738 images belonging to 2 classes.\n",
      "Found 4 images belonging to 2 classes.\n",
      "Epoch 1/100\n",
      "100/100 [==============================] - 142s 1s/step - loss: 3.7961 - acc: 0.7620 - val_loss: 0.0377 - val_acc: 1.0000\n",
      "Epoch 2/100\n",
      "100/100 [==============================] - 129s 1s/step - loss: 4.0498 - acc: 0.7459 - val_loss: 2.4897 - val_acc: 0.7500\n",
      "Epoch 3/100\n",
      "100/100 [==============================] - 129s 1s/step - loss: 3.9637 - acc: 0.7514 - val_loss: 3.9883 - val_acc: 0.7500\n",
      "Epoch 4/100\n",
      "100/100 [==============================] - 129s 1s/step - loss: 4.0106 - acc: 0.7484 - val_loss: 3.9883 - val_acc: 0.7500\n",
      "Epoch 5/100\n",
      "100/100 [==============================] - 1215s 12s/step - loss: 4.0686 - acc: 0.7448 - val_loss: 3.9883 - val_acc: 0.7500\n",
      "Epoch 6/100\n",
      "100/100 [==============================] - 149s 1s/step - loss: 4.0900 - acc: 0.7435 - val_loss: 3.9883 - val_acc: 0.7500\n",
      "Epoch 7/100\n",
      "100/100 [==============================] - 142s 1s/step - loss: 4.0266 - acc: 0.7474 - val_loss: 0.9125 - val_acc: 0.7500\n",
      "Epoch 8/100\n",
      "100/100 [==============================] - 125s 1s/step - loss: 4.4990 - acc: 0.7181 - val_loss: 3.1811 - val_acc: 0.7500\n",
      "Epoch 9/100\n",
      "100/100 [==============================] - 403s 4s/step - loss: 4.0250 - acc: 0.7476 - val_loss: 7.6965 - val_acc: 0.5000\n",
      "Epoch 10/100\n",
      "100/100 [==============================] - 134s 1s/step - loss: 4.0304 - acc: 0.7472 - val_loss: 7.6965 - val_acc: 0.5000\n",
      "Epoch 11/100\n",
      "100/100 [==============================] - 145s 1s/step - loss: 4.1401 - acc: 0.7403 - val_loss: 7.6965 - val_acc: 0.5000\n",
      "Epoch 12/100\n",
      "100/100 [==============================] - 139s 1s/step - loss: 4.1041 - acc: 0.7426 - val_loss: 7.6965 - val_acc: 0.5000\n",
      "Epoch 13/100\n",
      "100/100 [==============================] - 133s 1s/step - loss: 4.0888 - acc: 0.7435 - val_loss: 7.6965 - val_acc: 0.5000\n",
      "Epoch 14/100\n",
      "100/100 [==============================] - 133s 1s/step - loss: 4.1301 - acc: 0.7409 - val_loss: 7.6965 - val_acc: 0.5000\n",
      "Epoch 15/100\n",
      "100/100 [==============================] - 140s 1s/step - loss: 4.1351 - acc: 0.7406 - val_loss: 7.6965 - val_acc: 0.5000\n",
      "Epoch 16/100\n",
      "100/100 [==============================] - 172s 2s/step - loss: 4.1342 - acc: 0.7407 - val_loss: 7.6965 - val_acc: 0.5000\n",
      "Epoch 17/100\n",
      "100/100 [==============================] - 242s 2s/step - loss: 4.0474 - acc: 0.7461 - val_loss: 7.6965 - val_acc: 0.5000\n",
      "Epoch 18/100\n",
      " 79/100 [======================>.......] - ETA: 39s - loss: 4.0348 - acc: 0.7469"
     ]
    }
   ],
   "source": [
    "#Add data augmentation to the model setup and set the model to train; \n",
    "#See warnings above if you intend to run this block of code\n",
    "start = datetime.datetime.now()\n",
    "\n",
    "\n",
    "train_datagen = ImageDataGenerator(\n",
    "      rotation_range=40,\n",
    "      width_shift_range=0.2,\n",
    "      height_shift_range=0.2,\n",
    "      shear_range=0.2,\n",
    "      zoom_range=0.2,\n",
    "      horizontal_flip=True,\n",
    "      fill_mode='nearest')\n",
    "\n",
    "test_datagen = ImageDataGenerator(rescale=1./255)\n",
    "\n",
    "train_generator = train_datagen.flow_from_directory(\n",
    "        # This is the target directory\n",
    "        train_dir,\n",
    "        # All images will be resized to 150x150\n",
    "        target_size=(150, 150),\n",
    "        batch_size=32,\n",
    "        # Since we use binary_crossentropy loss, we need binary labels\n",
    "        class_mode='binary')\n",
    "\n",
    "validation_generator = test_datagen.flow_from_directory(\n",
    "        validation_dir,\n",
    "        target_size=(150, 150),\n",
    "        batch_size=32,\n",
    "        class_mode='binary')\n",
    "\n",
    "history = model.fit_generator(\n",
    "      train_generator,\n",
    "      steps_per_epoch=100,\n",
    "      epochs=100,\n",
    "      validation_data=validation_generator,\n",
    "      validation_steps=50)"
   ]
  },
  {
   "cell_type": "code",
   "execution_count": null,
   "metadata": {},
   "outputs": [],
   "source": [
    "acc = history.history['acc']\n",
    "val_acc = history.history['val_acc']\n",
    "loss = history.history['loss']\n",
    "val_loss = history.history['val_loss']\n",
    "epochs = range(len(acc))\n",
    "plt.plot(epochs, acc, 'bo', label='Training acc')\n",
    "plt.plot(epochs, val_acc, 'b', label='Validation acc')\n",
    "plt.title('Training and validation accuracy')\n",
    "plt.legend()\n",
    "plt.figure()\n",
    "plt.plot(epochs, loss, 'bo', label='Training loss')\n",
    "plt.plot(epochs, val_loss, 'b', label='Validation loss')\n",
    "plt.title('Training and validation loss')\n",
    "plt.legend()\n",
    "plt.show()"
   ]
  },
  {
   "cell_type": "code",
   "execution_count": null,
   "metadata": {},
   "outputs": [],
   "source": [
    "end = datetime.datetime.now()\n",
    "elapsed = end - start\n",
    "print('Training with data augmentation took a total of {}'.format(elapsed))"
   ]
  },
  {
   "cell_type": "code",
   "execution_count": null,
   "metadata": {},
   "outputs": [],
   "source": [
    "model.save('chest_xray_downsampled_with_augmentation_data.h5')"
   ]
  },
  {
   "cell_type": "markdown",
   "metadata": {},
   "source": [
    "## Final Evaluation\n",
    "\n",
    "Now use the test set to perform a final evaluation on your model of choice."
   ]
  },
  {
   "cell_type": "code",
   "execution_count": null,
   "metadata": {},
   "outputs": [],
   "source": [
    "# Your code here; perform a final evaluation using the test set..\n",
    "test_generator = test_datagen.flow_from_directory(\n",
    "        test_dir,\n",
    "        target_size=(150, 150),\n",
    "        batch_size=20,\n",
    "        class_mode='binary')\n",
    "test_loss, test_acc = model.evaluate_generator(test_generator, steps=50)\n",
    "print('test acc:', test_acc)"
   ]
  },
  {
   "cell_type": "markdown",
   "metadata": {},
   "source": [
    "## Extension: Adding Data to the Model\n",
    "\n",
    "As discussed, the current dataset we worked with is a subset of a dataset hosted on Kaggle. Increasing the data that we use to train the model will result in additional performance gains but will also result in longer training times and be more resource intensive.   \n",
    "\n",
    "It is estimated that training on the full dataset will take approximately 4 hours (and potentially significantly longer) depending on your computer's specifications.\n",
    "\n",
    "In order to test the impact of training on the full dataset, start by downloading the data from kaggle here: https://www.kaggle.com/paultimothymooney/chest-xray-pneumonia.   "
   ]
  },
  {
   "cell_type": "code",
   "execution_count": null,
   "metadata": {},
   "outputs": [],
   "source": [
    "#Optional extension; Your code here"
   ]
  },
  {
   "cell_type": "markdown",
   "metadata": {},
   "source": [
    "## Summary\n",
    "\n",
    "Well done! In this lab, you practice building your own CNN for image recognition which drastically outperformed our previous attempts using a standard deep learning model alone. In the upcoming sections, we'll continue to investigate further techniques associated with CNNs including visualizing the representations they learn and techniques to further bolster their performance when we have limited training data such as here."
   ]
  }
 ],
 "metadata": {
  "kernelspec": {
   "display_name": "Python 3",
   "language": "python",
   "name": "python3"
  },
  "language_info": {
   "codemirror_mode": {
    "name": "ipython",
    "version": 3
   },
   "file_extension": ".py",
   "mimetype": "text/x-python",
   "name": "python",
   "nbconvert_exporter": "python",
   "pygments_lexer": "ipython3",
   "version": "3.7.3"
  }
 },
 "nbformat": 4,
 "nbformat_minor": 2
}
